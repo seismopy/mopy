{
 "cells": [
  {
   "cell_type": "code",
   "execution_count": null,
   "metadata": {},
   "outputs": [],
   "source": [
    "import numpy as np\n",
    "import sympy as sym\n",
    "import matplotlib.pyplot as plt\n",
    "import pandas as pd\n",
    "\n",
    "from obspy import Trace, Stream, UTCDateTime\n",
    "import obsplus\n",
    "from obsplus.utils.time import to_utc\n",
    "\n",
    "from mopy import StatsGroup, TraceGroup, SpectrumGroup\n",
    "\n",
    "t, a, b, c, f = sym.symbols('t a b c f')"
   ]
  },
  {
   "cell_type": "code",
   "execution_count": null,
   "metadata": {},
   "outputs": [],
   "source": [
    "# Get gausian and derivative/integral\n",
    "gaus = a * sym.exp((-(t - b)**2) / (2 * c **2))\n",
    "d_gaus = sym.diff(gaus, t)\n",
    "int_gaus = sym.integrate(gaus, t)"
   ]
  },
  {
   "cell_type": "code",
   "execution_count": null,
   "metadata": {},
   "outputs": [],
   "source": [
    "# get freq domain\n",
    "F_gaus = sym.fourier_transform(gaus, t, f).rewrite(sym.Integral)\n",
    "F_d_gaus = sym.fourier_transform(d_gaus, t, f).rewrite(sym.Integral)\n",
    "F_int_gaus = sym.fourier_transform(int_gaus, t, f).rewrite(sym.Integral)"
   ]
  },
  {
   "cell_type": "code",
   "execution_count": null,
   "metadata": {},
   "outputs": [],
   "source": [
    "get_gaus = sym.lambdify([t, a, b, c], gaus)\n",
    "get_d_gaus = sym.lambdify([t, a, b, c], d_gaus)\n",
    "get_int_gaus = sym.lambdify([t, a, b, c], int_gaus)"
   ]
  },
  {
   "cell_type": "code",
   "execution_count": null,
   "metadata": {},
   "outputs": [],
   "source": [
    "t1, t2, dt = 0, 10.24, 0.01\n",
    "a, b, c = 0.1, 5, np.sqrt(3)\n",
    "x_orig = np.arange(t1, t2+1, dt)\n",
    "x = x_orig\n",
    "# get source in 1) displacement 2) velocity\n",
    "# dt = 0.01\n",
    "# a, b, c = 0.1, 5, np.sqrt(2)\n",
    "# # x = np.arange(0, 10/2, dt)\n",
    "# x = np.arange(0, 10, dt)\n",
    "ns = {}\n",
    "\n",
    "# Without zero-padding\n",
    "# source_disp_st = \n",
    "source_disp = np.zeros(len(x))\n",
    "source_disp[0:len(x)] = get_gaus(x, a=a, b=b, c=c)  # displacement\n",
    "ns[\"source\"] = len(x)\n",
    "source_vel = np.zeros(len(x))\n",
    "source_vel[0:len(x)] = get_d_gaus(x, a=a, b=b, c=c)  # velocity\n",
    "# With zero padding and a serious discontinuity\n",
    "# x = np.arange(t1, (t2+1)/2, dt)\n",
    "# dis_source_disp = np.zeros(len(x)*2)\n",
    "# dis_source_disp[0:len(x)] = get_gaus(x, a=a, b=b, c=c)  # displacement\n",
    "# dis_source_vel = np.zeros(len(x)*2)\n",
    "# dis_source_vel[0:len(x)] = get_d_gaus(x, a=a, b=b, c=c)  # velocity\n",
    "x = np.arange(t1, (t2+1)*0.75, dt)\n",
    "ns[\"discosninuity\"] = len(x)\n",
    "dis_source_disp = np.zeros(len(x_orig))\n",
    "dis_source_disp[0:len(x)] = get_gaus(x, a=a, b=b, c=c)  # displacement\n",
    "dis_source_vel = np.zeros(len(x_orig))\n",
    "dis_source_vel[0:len(x)] = get_d_gaus(x, a=a, b=b, c=c)  # velocity\n",
    "# With zero padding, but relatively continuous\n",
    "# x = np.arange(t1, (t2+1)/2, dt)\n",
    "# zp_source_disp = np.zeros(len(x)*2)\n",
    "# zp_source_disp[0:len(x)] = get_gaus(x, a=a, b=b/2, c=c/2)  # displacement\n",
    "# zp_source_vel = np.zeros(len(x)*2)\n",
    "# zp_source_vel[0:len(x)] = get_d_gaus(x, a=a, b=b/2, c=c/2)  # velocity\n",
    "x = np.arange(t1, (t2+1)*0.75, dt)\n",
    "ns[\"zero_padded\"] = len(x)\n",
    "zp_source_disp = np.zeros(len(x_orig))\n",
    "zp_source_disp[0:len(x)] = get_gaus(x, a=a, b=b*0.75, c=c*0.75)  # displacement\n",
    "zp_source_vel = np.zeros(len(x_orig))\n",
    "zp_source_vel[0:len(x)] = get_d_gaus(x, a=a, b=b*0.75, c=c*0.75)  # velocity\n",
    "\n",
    "x = x_orig"
   ]
  },
  {
   "cell_type": "code",
   "execution_count": null,
   "metadata": {},
   "outputs": [],
   "source": [
    "fig, (ax1, ax2, ax3) = plt.subplots(1, 3, figsize=(15,5))\n",
    "ax1.plot(x, source_disp)\n",
    "ax2.plot(x, dis_source_disp)\n",
    "ax3.plot(x, zp_source_disp)\n",
    "# plt.plot(x, source_disp)\n",
    "ax1.set_ylabel('displacement amplitude (m)')"
   ]
  },
  {
   "cell_type": "code",
   "execution_count": null,
   "metadata": {},
   "outputs": [],
   "source": [
    "fig, (ax1, ax2, ax3) = plt.subplots(1, 3, figsize=(15,5))\n",
    "ax1.plot(x, source_vel)\n",
    "ax2.plot(x, dis_source_vel)\n",
    "ax3.plot(x, zp_source_vel)\n",
    "ax1.set_ylabel('velocity amplitude (m/s)')"
   ]
  },
  {
   "cell_type": "code",
   "execution_count": null,
   "metadata": {},
   "outputs": [],
   "source": [
    "ds = obsplus.load_dataset(\"coal_node\")\n",
    "# Load up some events\n",
    "cat = ds.event_client.get_events()\n",
    "# Load up a station inventory\n",
    "inv = ds.station_client.get_stations()\n",
    "# Generate a StatsGroup that can be used to create another StatsGroup\n",
    "sg = StatsGroup(catalog=cat, inventory=inv)\n",
    "\n",
    "# Two streams, one has the full data, the other has only part of it\n",
    "# (to see the effects of zero padding the data)\n",
    "df_contents = {\n",
    "    \"event_id\": [\"event1\", \"event1\", \"event1\"],\n",
    "    \"seed_id\": [\"UK.STA1..HHZ\", \"UK.STA2..HHZ\", \"UK.STA3..HHZ\"],\n",
    "    \"seed_id_less\": [\"UK.STA1..HH\", \"UK.STA2..HH\", \"UK.STA3..HH\"],\n",
    "    \"phase_hint\": [\"P\", \"P\", \"P\"],\n",
    "    \"time\": [np.datetime64(\"2020-01-01T00:00:01\"), np.datetime64(\"2020-01-01T00:00:01\"), np.datetime64(\"2020-01-01T00:00:01\")],\n",
    "    \"starttime\": [np.datetime64(\"2020-01-01T00:00:00\"), np.datetime64(\"2020-01-01T00:00:00\"), np.datetime64(\"2020-01-01T00:00:00\"),],\n",
    "    \"endtime\": [np.datetime64(\"2020-01-01T00:00:00\") + np.timedelta64(int(t2*1000), 'ms') - np.timedelta64(int(dt*1000), 'ms'), \n",
    "                np.datetime64(\"2020-01-01T00:00:00\") + np.timedelta64(int(t2//2*1000), 'ms') - np.timedelta64(int(dt*1000), 'ms'),\n",
    "                np.datetime64(\"2020-01-01T00:00:00\") + np.timedelta64(int(t2//2*1000), \"ms\") - np.timedelta64(int(dt*1000), \"ms\")\n",
    "               ],\n",
    "    \"ray_path_length_m\": [2000, 2000, 2000],\n",
    "    \"hyp_distance_m\": [2000, 2000, 2000],\n",
    "}\n",
    "df = pd.DataFrame(df_contents, columns=df_contents.keys())\n",
    "df.set_index(['phase_hint', 'event_id', 'seed_id_less', 'seed_id'], inplace=True)\n",
    "df[\"sampling_rate\"] = 1/dt\n",
    "sg = sg.new_from_dict(data=df)  # This is a weird way to do this\n",
    "\n",
    "st = Stream()\n",
    "tr = Trace(data=source_disp, header={\n",
    "    \"starttime\": to_utc(sg.data.iloc[0].starttime),\n",
    "    \"delta\": dt,\n",
    "    \"network\": \"UK\",\n",
    "    \"station\": \"STA1\",\n",
    "    \"channel\": \"HHZ\",\n",
    "})\n",
    "st.append(tr)\n",
    "tr = Trace(data=dis_source_disp, header={\n",
    "    \"starttime\": to_utc(sg.data.iloc[1].starttime),\n",
    "    \"delta\": dt,\n",
    "    \"network\": \"UK\",\n",
    "    \"station\": \"STA2\",\n",
    "    \"channel\": \"HHZ\",\n",
    "})\n",
    "st.append(tr)\n",
    "tr = Trace(data=zp_source_disp, header={\n",
    "    \"starttime\": to_utc(sg.data.iloc[2].starttime),\n",
    "    \"delta\": dt,\n",
    "    \"network\": \"UK\",\n",
    "    \"station\": \"STA3\",\n",
    "    \"channel\": \"HHZ\",\n",
    "})\n",
    "st.append(tr)\n",
    "tg = TraceGroup(sg, st.copy(), \"displacement\").fillna()  # START HERE... MAKE SURE TO CREATE THE STREAM BEFORE ADDING THE ZERO PADDING TO THE END TO ENSURE WE'RE GETTING THE RIGHT SAMPLE LENGTHS? BUT IT STILL SEEMS LIKE THERE WOULD BE A SAMPLE LENGTH DEPENDENCE THAT IS NOT ACCOUNTED FOR...\n",
    "\n",
    "spec = tg.dft()\n",
    "spec_mtspec = tg.mtspec()"
   ]
  },
  {
   "cell_type": "code",
   "execution_count": null,
   "metadata": {},
   "outputs": [],
   "source": [
    "fig, ((ax1, ax2, ax3), (ax4, ax5, ax6)) = plt.subplots(2, 3, figsize=(15, 10))\n",
    "ax1.loglog(spec.data.columns, spec.abs().data.iloc[0])\n",
    "ax1.loglog(spec_mtspec.data.columns, spec_mtspec.to_spectra_type(\"dft\").data.iloc[0])\n",
    "ax4.loglog(spec.data.columns, spec.to_spectra_type(\"psd\").abs().data.iloc[0])\n",
    "ax4.loglog(spec_mtspec.data.columns, spec_mtspec.data.iloc[0])\n",
    "\n",
    "ax2.loglog(spec.data.columns, spec.abs().data.iloc[1])\n",
    "ax2.loglog(spec_mtspec.data.columns, spec_mtspec.to_spectra_type(\"dft\").data.iloc[1])\n",
    "ax5.loglog(spec.data.columns, spec.to_spectra_type(\"psd\").abs().data.iloc[1])\n",
    "ax5.loglog(spec_mtspec.data.columns, spec_mtspec.data.iloc[1])\n",
    "\n",
    "ax3.loglog(spec.data.columns, spec.abs().data.iloc[2])\n",
    "ax3.loglog(spec_mtspec.data.columns, spec_mtspec.to_spectra_type(\"dft\").data.iloc[2])\n",
    "ax6.loglog(spec.data.columns, spec.to_spectra_type(\"psd\").abs().data.iloc[2])\n",
    "ax6.loglog(spec_mtspec.data.columns, spec_mtspec.data.iloc[2])"
   ]
  },
  {
   "cell_type": "code",
   "execution_count": null,
   "metadata": {},
   "outputs": [],
   "source": []
  }
 ],
 "metadata": {
  "kernelspec": {
   "display_name": "Python 3",
   "language": "python",
   "name": "python3"
  },
  "language_info": {
   "codemirror_mode": {
    "name": "ipython",
    "version": 3
   },
   "file_extension": ".py",
   "mimetype": "text/x-python",
   "name": "python",
   "nbconvert_exporter": "python",
   "pygments_lexer": "ipython3",
   "version": "3.8.5"
  }
 },
 "nbformat": 4,
 "nbformat_minor": 4
}
