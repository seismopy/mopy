{
 "cells": [
  {
   "cell_type": "markdown",
   "metadata": {},
   "source": [
    "# FFT musings\n",
    "Just a simple notebook with plots to convince myself math is correct. "
   ]
  },
  {
   "cell_type": "code",
   "execution_count": null,
   "metadata": {},
   "outputs": [],
   "source": [
    "import matplotlib.pyplot as plt\n",
    "import numpy as np\n",
    "import obspy"
   ]
  },
  {
   "cell_type": "markdown",
   "metadata": {},
   "source": [
    "## Zero Padding and ringing"
   ]
  },
  {
   "cell_type": "code",
   "execution_count": null,
   "metadata": {},
   "outputs": [],
   "source": [
    "st = obspy.read()\n",
    "st.detrend('linear')\n",
    "st.taper(max_percentage=.05)\n",
    "data = st[0][:100]\n",
    "\n",
    "fft1 = abs(np.fft.rfft(data))\n",
    "freq1 = np.fft.rfftfreq(len(data), 100)\n",
    "\n",
    "data2 = np.zeros(len(data) * 12)\n",
    "data2[:len(data)] = data\n",
    "fft2 = abs(np.fft.rfft(data2))\n",
    "freq2 = np.fft.rfftfreq(len(data2), 100)\n"
   ]
  },
  {
   "cell_type": "code",
   "execution_count": null,
   "metadata": {},
   "outputs": [],
   "source": [
    "st[0].plot()"
   ]
  },
  {
   "cell_type": "code",
   "execution_count": null,
   "metadata": {},
   "outputs": [],
   "source": [
    "plt.figure(figsize=(20, 10))\n",
    "plt.loglog(freq1, abs(fft1))\n",
    "plt.loglog(freq2, abs(fft2))"
   ]
  },
  {
   "cell_type": "code",
   "execution_count": null,
   "metadata": {},
   "outputs": [],
   "source": [
    "from mopy.smooth import konno_ohmachi_smoothing as ko_smooth\n",
    "\n",
    "plt.figure(figsize=(20, 10))\n",
    "sm1 = ko_smooth(fft1, freq1)\n",
    "sm2 = ko_smooth(fft2, freq2, center_frequencies=freq1)\n",
    "plt.loglog(freq1, sm1)\n",
    "plt.loglog(freq1, sm2)"
   ]
  },
  {
   "cell_type": "code",
   "execution_count": null,
   "metadata": {},
   "outputs": [],
   "source": [
    "def plot_arrays(*, log=False, **kwargs):\n",
    "    \"\"\" perform ffts on arrays and plot \"\"\"\n",
    "    plt.figure(figsize=(12,12))\n",
    "    plt.subplot(2,1,1)\n",
    "    # first plot in time domain\n",
    "    for label, array in kwargs.items():\n",
    "        plt.plot(array, label=label, alpha=.5)\n",
    "    plt.xlabel('time')\n",
    "    plt.ylabel('amplitude')\n",
    "    plt.legend()\n",
    "    \n",
    "    # next plot freq\n",
    "    plt.subplot(2,1,2)\n",
    "    plot_func = plt.plot if not log else plt.loglog\n",
    "    for label, array in kwargs.items():\n",
    "        freqs = np.fft.rfftfreq(len(array), 1)\n",
    "        fft = np.fft.rfft(array)\n",
    "        plot_func(freqs, abs(fft), label=label, alpha=.5)\n",
    "    plt.xlabel('frequency')\n",
    "    plt.ylabel('amplitude')\n",
    "    plt.legend()"
   ]
  },
  {
   "cell_type": "markdown",
   "metadata": {},
   "source": [
    "Amplitude spectra of a few interesting alterations of a signal"
   ]
  },
  {
   "cell_type": "code",
   "execution_count": null,
   "metadata": {},
   "outputs": [],
   "source": [
    "tr = obspy.read()[0]\n",
    "tr.detrend('linear')\n",
    "tr.decimate(2)\n",
    "# make original trace\n",
    "ar1 = tr.data[225:700]\n",
    "\n",
    "# make repeat trace\n",
    "ar1_repeat = np.zeros(len(ar1) * 2)\n",
    "ar1_repeat[:len(ar1)] = ar1\n",
    "ar1_repeat[len(ar1):] = ar1\n",
    "# zero paddded\n",
    "ar1_zero_padded = np.zeros(len(ar1_repeat))\n",
    "ar1_zero_padded[:len(ar1)] = ar1\n",
    "# decimated\n",
    "ar1_decimated = ar1[::2]\n",
    "# double amp\n",
    "ar1_2_amp = ar1 * 2"
   ]
  },
  {
   "cell_type": "code",
   "execution_count": null,
   "metadata": {},
   "outputs": [],
   "source": [
    "plot_arrays(ar1=ar1, # ar1_repeat=ar1_repeat, decimated=ar1_decimated, double_amp=ar1_2_amp,\n",
    "           zero_padded=ar1_zero_padded)"
   ]
  },
  {
   "cell_type": "markdown",
   "metadata": {},
   "source": [
    "Test how to modify repeated signals to equal zero padded signals"
   ]
  },
  {
   "cell_type": "code",
   "execution_count": null,
   "metadata": {},
   "outputs": [],
   "source": [
    "def generate_signals(len1, len2):\n",
    "    \"\"\" generate two random signals, the first is zero-padded. \"\"\"\n",
    "    sig = np.random.rand(len1)\n",
    "    sig1 = np.zeros(len2)\n",
    "    sig1[:len1] = sig - np.mean(sig)\n",
    "    sig2 = np.random.rand(len2)\n",
    "    sig2 = sig2 - np.mean(sig2)\n",
    "    assert len(sig1) == len(sig2)\n",
    "    return sig1, sig2\n",
    "\n",
    "def get_amp_spec(sig1, sig2):\n",
    "    return abs(np.fft.rfft(sig1)), abs(np.fft.rfft(sig2))\n",
    "\n",
    "def print_ratios(ratios, base=1000):\n",
    "    \"\"\" generate signals, print spectral ratios. \"\"\"\n",
    "    for num in ratios:\n",
    "        len2 = int(num * base)\n",
    "        sig1, sig2 = generate_signals(base, len2)\n",
    "        abs1, abs2 = get_amp_spec(sig1, sig2)\n",
    "        abs_sum_ratio = np.sum(abs1) / np.sum(abs2)\n",
    "        expected = np.sqrt((base)/len2)\n",
    "        \n",
    "        abs_sum_dif = abs_sum_ratio - expected\n",
    "        \n",
    "        print(f'{num}, {base, len2}, {abs_sum_dif}, {np.sum(abs1) - np.sum(abs2)*expected}')\n"
   ]
  },
  {
   "cell_type": "markdown",
   "metadata": {},
   "source": [
    "test parcivals therum with fft"
   ]
  },
  {
   "cell_type": "code",
   "execution_count": null,
   "metadata": {},
   "outputs": [],
   "source": [
    "sig1, sig2 = generate_signals(1000, 2000)\n",
    "fft1, fft2 = get_amp_spec(sig1, sig2)\n",
    "\n",
    "print(np.sum(sig1**2)* 1000 / np.sum(fft1**2))\n"
   ]
  },
  {
   "cell_type": "code",
   "execution_count": null,
   "metadata": {},
   "outputs": [],
   "source": [
    "fft1 = abs(np.fft.rfft(sig1))\n",
    "fft2 = abs(np.fft.rfft(sig2))\n",
    "plt.plot(fft1)\n",
    "plt.plot(fft2)"
   ]
  },
  {
   "cell_type": "code",
   "execution_count": null,
   "metadata": {},
   "outputs": [],
   "source": [
    "print(np.sum(fft1))\n",
    "print(np.sum(fft2))\n",
    "print(np.sum(fft1)/np.sum(fft2))"
   ]
  },
  {
   "cell_type": "code",
   "execution_count": null,
   "metadata": {},
   "outputs": [],
   "source": [
    "plt.plot(abs(fft_ar_rep))\n",
    "plt.plot(abs(fft_ar_zero))\n",
    "out = abs(fft_ar_rep) / abs(fft_ar_zero)"
   ]
  },
  {
   "cell_type": "code",
   "execution_count": null,
   "metadata": {},
   "outputs": [],
   "source": [
    "np.sum(abs(fft_ar_rep))"
   ]
  },
  {
   "cell_type": "code",
   "execution_count": null,
   "metadata": {},
   "outputs": [],
   "source": [
    "np.sum(abs(fft_ar_zero))"
   ]
  },
  {
   "cell_type": "markdown",
   "metadata": {},
   "source": [
    "Frequency modifications"
   ]
  },
  {
   "cell_type": "code",
   "execution_count": null,
   "metadata": {},
   "outputs": [],
   "source": [
    "fft = np.fft.rfft(ar1)\n",
    "abs_fft = abs(fft)"
   ]
  },
  {
   "cell_type": "markdown",
   "metadata": {},
   "source": [
    "Effects of freq resampling"
   ]
  },
  {
   "cell_type": "code",
   "execution_count": null,
   "metadata": {},
   "outputs": [],
   "source": [
    "fft = np.fft.rfft(ar1)\n",
    "fft_rep = np.repeat(fft, 2)"
   ]
  },
  {
   "cell_type": "code",
   "execution_count": null,
   "metadata": {},
   "outputs": [],
   "source": [
    "fft_rep[0], fft_rep[1]"
   ]
  },
  {
   "cell_type": "code",
   "execution_count": null,
   "metadata": {},
   "outputs": [],
   "source": [
    "plt.plot(np.fft.irfft(fft))\n",
    "plt.plot(np.fft.irfft(fft_rep))"
   ]
  },
  {
   "cell_type": "code",
   "execution_count": null,
   "metadata": {},
   "outputs": [],
   "source": [
    "import scipy\n",
    "resamp = scipy.signal.resample(fft, len(fft) * 2)"
   ]
  },
  {
   "cell_type": "code",
   "execution_count": null,
   "metadata": {},
   "outputs": [],
   "source": [
    "plt.plot(np.linspace(0, 1, len(resamp)), abs(resamp))\n",
    "plt.plot(np.linspace(0, 1, len(fft)), abs(fft))\n",
    "         "
   ]
  },
  {
   "cell_type": "code",
   "execution_count": null,
   "metadata": {},
   "outputs": [],
   "source": [
    "plt.plot(np.fft.irfft(resamp))\n",
    "plt.plot(np.fft.irfft(fft))"
   ]
  },
  {
   "cell_type": "code",
   "execution_count": null,
   "metadata": {},
   "outputs": [],
   "source": []
  }
 ],
 "metadata": {
  "kernelspec": {
   "display_name": "Python 3",
   "language": "python",
   "name": "python3"
  },
  "language_info": {
   "codemirror_mode": {
    "name": "ipython",
    "version": 3
   },
   "file_extension": ".py",
   "mimetype": "text/x-python",
   "name": "python",
   "nbconvert_exporter": "python",
   "pygments_lexer": "ipython3",
   "version": "3.7.6"
  }
 },
 "nbformat": 4,
 "nbformat_minor": 4
}
