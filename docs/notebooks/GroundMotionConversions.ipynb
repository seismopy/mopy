{
 "cells": [
  {
   "cell_type": "code",
   "execution_count": null,
   "metadata": {},
   "outputs": [],
   "source": [
    "from matplotlib import pyplot as plt\n",
    "import numpy as np\n",
    "import pandas as pd\n",
    "from scipy.fftpack import next_fast_len\n",
    "\n",
    "from obspy import Trace, Stream, UTCDateTime\n",
    "import obsplus\n",
    "from obsplus.utils.time import to_utc\n",
    "\n",
    "from mopy import StatsGroup, TraceGroup, SpectrumGroup\n",
    "from mopy.testing import gauss, gauss_deriv, gauss_deriv_deriv"
   ]
  },
  {
   "cell_type": "markdown",
   "metadata": {},
   "source": [
    "## Mock up the data structures in the laziest possible way"
   ]
  },
  {
   "cell_type": "markdown",
   "metadata": {},
   "source": [
    "### Random stuff to make my hack work"
   ]
  },
  {
   "cell_type": "code",
   "execution_count": null,
   "metadata": {},
   "outputs": [],
   "source": [
    "ds = obsplus.load_dataset(\"coal_node\")\n",
    "# Load up some events\n",
    "cat = ds.event_client.get_events()\n",
    "# Load up a station inventory\n",
    "inv = ds.station_client.get_stations()\n",
    "# Generate a StatsGroup that can be used to create another StatsGroup\n",
    "sg = StatsGroup(catalog=cat, inventory=inv)"
   ]
  },
  {
   "cell_type": "markdown",
   "metadata": {},
   "source": [
    "### Spawn a StatsGroup from the mocked StatsGroup"
   ]
  },
  {
   "cell_type": "code",
   "execution_count": null,
   "metadata": {},
   "outputs": [],
   "source": [
    "# Constants for gauss wave\n",
    "_t1, _t2, _dt = 0, 10.24, 0.01\n",
    "_a, _b, _c = 0.1, 5, np.sqrt(3)\n",
    "_t = np.arange(_t1, _t2+1, _dt)"
   ]
  },
  {
   "cell_type": "code",
   "execution_count": null,
   "metadata": {},
   "outputs": [],
   "source": [
    "# Two streams, one has the full data, the other has only part of it\n",
    "# (to see the effects of zero padding the data)\n",
    "df_contents = {\n",
    "    \"event_id\": [\"event1\", \"event1\"],\n",
    "    \"seed_id\": [\"UK.STA1..HHZ\", \"UK.STA2..HHZ\"],\n",
    "    \"seed_id_less\": [\"UK.STA1..HH\", \"UK.STA2..HH\"],\n",
    "    \"phase_hint\": [\"P\", \"P\"],\n",
    "    \"time\": [np.datetime64(\"2020-01-01T00:00:01\"), np.datetime64(\"2020-01-01T00:00:01\")],\n",
    "    \"starttime\": [np.datetime64(\"2020-01-01T00:00:00\"), np.datetime64(\"2020-01-01T00:00:00\"),],\n",
    "    \"endtime\": [np.datetime64(\"2020-01-01T00:00:00\") + np.timedelta64(int(_t2*1000), 'ms') - np.timedelta64(int(_dt*1000), 'ms'), \n",
    "                np.datetime64(\"2020-01-01T00:00:00\") + np.timedelta64(int(_t2//2*1000), 'ms') - np.timedelta64(int(_dt*1000), 'ms'),],\n",
    "    \"ray_path_length_m\": [2000, 2000],\n",
    "    \"hyp_distance_m\": [2000, 2000],\n",
    "}\n",
    "df = pd.DataFrame(df_contents, columns=df_contents.keys())\n",
    "df.set_index(['phase_hint', 'event_id', 'seed_id_less', 'seed_id'], inplace=True)\n",
    "df[\"sampling_rate\"] = 1/_dt\n",
    "sg = sg.new_from_dict(data=df)  # This is a weird way to do this"
   ]
  },
  {
   "cell_type": "markdown",
   "metadata": {},
   "source": [
    "### Create a TraceGroup"
   ]
  },
  {
   "cell_type": "code",
   "execution_count": null,
   "metadata": {},
   "outputs": [],
   "source": [
    "# Generate the data\n",
    "data = gauss(_t, _a, _b, _c)\n",
    "# Build a stream from the data\n",
    "tr = Trace(data=data, header={\n",
    "    \"starttime\": to_utc(sg.data.iloc[0].starttime),\n",
    "    \"delta\": _dt,\n",
    "    \"network\": \"UK\",\n",
    "    \"station\": \"STA1\",\n",
    "    \"channel\": \"HHZ\",\n",
    "})\n",
    "st = Stream()\n",
    "st.append(tr)\n",
    "# Add a second trace with a substantial discontinuity caused by zero-padding\n",
    "st.append(tr.copy())  # Same data, but the time window in the StatsGroup halves it\n",
    "st[1].stats.station = \"STA2\"\n",
    "# Make a TraceGroup\n",
    "tg = TraceGroup(sg, st, \"displacement\").fillna()\n",
    "tg_v = TraceGroup(sg, st.copy().differentiate(), \"velocity\").fillna()"
   ]
  },
  {
   "cell_type": "code",
   "execution_count": null,
   "metadata": {},
   "outputs": [],
   "source": [
    "print(len(st[0].data), len(tg.data.iloc[0]))"
   ]
  },
  {
   "cell_type": "markdown",
   "metadata": {},
   "source": [
    "### Create a SpectrumGroup"
   ]
  },
  {
   "cell_type": "code",
   "execution_count": null,
   "metadata": {},
   "outputs": [],
   "source": [
    "spec = tg.dft()\n",
    "spec_v = tg_v.dft()"
   ]
  },
  {
   "cell_type": "markdown",
   "metadata": {},
   "source": [
    "## Convert the displacement data to velocity data"
   ]
  },
  {
   "cell_type": "code",
   "execution_count": null,
   "metadata": {},
   "outputs": [],
   "source": [
    "# Time domain\n",
    "trace0_td = np.gradient(tg.data.iloc[0], _dt)\n",
    "trace1_td = np.gradient(tg.data.iloc[1], _dt)"
   ]
  },
  {
   "cell_type": "code",
   "execution_count": null,
   "metadata": {},
   "outputs": [],
   "source": [
    "# Frequency domain\n",
    "freqs = spec.data.columns\n",
    "spec0_fd = 1j * 2 * np.pi * np.array(freqs) * spec.data.iloc[0]  # It bothers me that this isn't an exact match, but instead looks like the zero-padded example in other notebooks...\n",
    "spec1_fd = 1j * 2 * np.pi * np.array(freqs) * spec.data.iloc[1]"
   ]
  },
  {
   "cell_type": "markdown",
   "metadata": {},
   "source": [
    "## Convert the spectra to velocity"
   ]
  },
  {
   "cell_type": "code",
   "execution_count": null,
   "metadata": {},
   "outputs": [],
   "source": [
    "spec_converted = spec.to_motion_type(\"velocity\")"
   ]
  },
  {
   "cell_type": "markdown",
   "metadata": {},
   "source": [
    "## Lastly, convert back to the time domain to make sure it didn't dramatically change the data"
   ]
  },
  {
   "cell_type": "code",
   "execution_count": null,
   "metadata": {},
   "outputs": [],
   "source": [
    "td = np.fft.irfft(spec_converted.data, axis=-1)"
   ]
  },
  {
   "cell_type": "code",
   "execution_count": null,
   "metadata": {},
   "outputs": [],
   "source": [
    "# td_v = st[0].copy().differentiate()\n",
    "# fd_v = np.fft.rfft(td_v)\n",
    "# freqs = np.fft.rfftfreq(len(td_v), _dt)\n",
    "# inv_fd = np.fft.irfft(fd_v)"
   ]
  },
  {
   "cell_type": "code",
   "execution_count": null,
   "metadata": {},
   "outputs": [],
   "source": [
    "fig, ((ax1, ax2), (ax3, ax4)) = plt.subplots(2, 2, figsize=(12, 8))\n",
    "ax1.plot(tg.data.columns, tg.data.iloc[0])\n",
    "ax2.plot(tg_v.data.columns, tg_v.data.iloc[0])\n",
    "# ax2.plot(tg.data.columns, trace0_td, alpha=0.5)\n",
    "ax2.plot(tg.data.columns, td[0], alpha=0.5)\n",
    "ax3.loglog(spec.data.columns, abs(spec.data.iloc[0]))\n",
    "ax4.loglog(spec_v.data.columns, abs(spec_v.data.iloc[0]))\n",
    "# ax4.loglog(freqs, abs(spec0_fd), alpha=0.5)\n",
    "ax4.loglog(spec_converted.data.columns, abs(spec_converted.data.iloc[0]), alpha=0.5)\n",
    "\n",
    "# ax2.plot(st[0].times(), inv_fd)\n",
    "# ax4.loglog(freqs, abs(fd_v))"
   ]
  },
  {
   "cell_type": "code",
   "execution_count": null,
   "metadata": {},
   "outputs": [],
   "source": [
    "fig, ((ax1, ax2), (ax3, ax4)) = plt.subplots(2, 2, figsize=(12, 8))\n",
    "ax1.plot(tg.data.columns, tg.data.iloc[1])\n",
    "ax2.plot(tg_v.data.columns, tg_v.data.iloc[1])\n",
    "ax2.plot(tg.data.columns, trace1_td, alpha=0.5)\n",
    "ax2.plot(tg.data.columns, td[1], alpha=0.5)\n",
    "ax3.loglog(spec.data.columns, abs(spec.data.iloc[1]))\n",
    "ax4.loglog(spec_v.data.columns, abs(spec_v.data.iloc[1]))\n",
    "ax4.loglog(freqs, abs(spec1_fd), alpha=0.5)\n",
    "ax4.loglog(spec_converted.data.columns, abs(spec_converted.data.iloc[1]), alpha=0.5)"
   ]
  },
  {
   "cell_type": "code",
   "execution_count": null,
   "metadata": {},
   "outputs": [],
   "source": []
  }
 ],
 "metadata": {
  "kernelspec": {
   "display_name": "Python 3",
   "language": "python",
   "name": "python3"
  },
  "language_info": {
   "codemirror_mode": {
    "name": "ipython",
    "version": 3
   },
   "file_extension": ".py",
   "mimetype": "text/x-python",
   "name": "python",
   "nbconvert_exporter": "python",
   "pygments_lexer": "ipython3",
   "version": "3.8.5"
  }
 },
 "nbformat": 4,
 "nbformat_minor": 4
}
