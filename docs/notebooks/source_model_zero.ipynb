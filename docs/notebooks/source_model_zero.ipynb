{
 "cells": [
  {
   "cell_type": "markdown",
   "metadata": {},
   "source": [
    "## Simple source modeling\n",
    "Trying to iron out all the confusion on how to calculate source parameters"
   ]
  },
  {
   "cell_type": "code",
   "execution_count": null,
   "metadata": {},
   "outputs": [],
   "source": [
    "import numpy as np\n",
    "import sympy as sym\n",
    "import matplotlib.pyplot as plt\n",
    "\n",
    "t, a, b, c, f = sym.symbols('t a b c f')"
   ]
  },
  {
   "cell_type": "markdown",
   "metadata": {},
   "source": [
    "## Source Model\n",
    "\n",
    "We will use a simple guassian as a source model."
   ]
  },
  {
   "cell_type": "code",
   "execution_count": null,
   "metadata": {},
   "outputs": [],
   "source": [
    "# Get gausian and derivative/integral\n",
    "gaus = a * sym.exp((-(t - b)**2) / (2 * c **2))\n",
    "d_gaus = sym.diff(gaus, t)\n",
    "int_gaus = sym.integrate(gaus, t)"
   ]
  },
  {
   "cell_type": "code",
   "execution_count": null,
   "metadata": {},
   "outputs": [],
   "source": [
    "# get freq domain\n",
    "F_gaus = sym.fourier_transform(gaus, t, f).rewrite(sym.Integral)\n",
    "F_d_gaus = sym.fourier_transform(d_gaus, t, f).rewrite(sym.Integral)\n",
    "F_int_gaus = sym.fourier_transform(int_gaus, t, f).rewrite(sym.Integral)"
   ]
  },
  {
   "cell_type": "code",
   "execution_count": null,
   "metadata": {},
   "outputs": [],
   "source": [
    "gaus"
   ]
  },
  {
   "cell_type": "code",
   "execution_count": null,
   "metadata": {},
   "outputs": [],
   "source": [
    "d_gaus"
   ]
  },
  {
   "cell_type": "markdown",
   "metadata": {},
   "source": [
    "## Get numpy functions"
   ]
  },
  {
   "cell_type": "code",
   "execution_count": null,
   "metadata": {},
   "outputs": [],
   "source": [
    "get_gaus = sym.lambdify([t, a, b, c], gaus)\n",
    "get_d_gaus = sym.lambdify([t, a, b, c], d_gaus)\n",
    "get_int_gaus = sym.lambdify([t, a, b, c], int_gaus)"
   ]
  },
  {
   "cell_type": "markdown",
   "metadata": {},
   "source": [
    "## Next generate source time series and plot"
   ]
  },
  {
   "cell_type": "code",
   "execution_count": null,
   "metadata": {},
   "outputs": [],
   "source": [
    "# get source in 1) displacement 2) velocity\n",
    "dt = 0.01\n",
    "t1, t2 = 2, 8\n",
    "a, b, c = 0.1, 5, np.sqrt(2)\n",
    "x = np.arange(0, 10, dt)\n",
    "\n",
    "\n",
    "source_disp = get_gaus(x, a=a, b=b, c=c)\n",
    "# source_disp = np.zeros(len(source_disp)+20)\n",
    "source_disp[len(source_disp)//2:len(source_disp)] = 0\n",
    "source_vel = np.gradient(source_disp, dt) #get_d_gaus(x, a=a, b=b, c=c)"
   ]
  },
  {
   "cell_type": "code",
   "execution_count": null,
   "metadata": {},
   "outputs": [],
   "source": [
    "plt.plot(x, source_disp)\n",
    "plt.xlabel('time (s)')\n",
    "plt.ylabel('displacement amplitude (m)')"
   ]
  },
  {
   "cell_type": "code",
   "execution_count": null,
   "metadata": {},
   "outputs": [],
   "source": [
    "plt.plot(x, source_vel)\n",
    "plt.xlabel('time (s)')\n",
    "plt.ylabel('velocity amplitude (m)')"
   ]
  },
  {
   "cell_type": "code",
   "execution_count": null,
   "metadata": {},
   "outputs": [],
   "source": [
    "len(source_disp)"
   ]
  },
  {
   "cell_type": "markdown",
   "metadata": {},
   "source": [
    "## Moments\n",
    "First we estimate the moment (or something proporcional to it) in time domain and compare the results to the freq domain.\n",
    "\n",
    "### Time domain"
   ]
  },
  {
   "cell_type": "code",
   "execution_count": null,
   "metadata": {},
   "outputs": [],
   "source": [
    "# get moment from t1 to t2\n",
    "x_in_time = (x > t1) & (x < t2)"
   ]
  },
  {
   "cell_type": "code",
   "execution_count": null,
   "metadata": {},
   "outputs": [],
   "source": [
    "moment_td = np.trapz(source_disp, dx=x[1] - x[0])"
   ]
  },
  {
   "cell_type": "markdown",
   "metadata": {},
   "source": [
    "### Freq. domain"
   ]
  },
  {
   "cell_type": "code",
   "execution_count": null,
   "metadata": {},
   "outputs": [],
   "source": [
    "def get_fft(ar, dt):\n",
    "    \"\"\"Return the fft of the array and its \"\"\"\n",
    "    fft_ar = np.fft.rfft(ar) * dt\n",
    "    freq = np.fft.rfftfreq(len(ar), dt)\n",
    "    return freq, fft_ar"
   ]
  },
  {
   "cell_type": "code",
   "execution_count": null,
   "metadata": {},
   "outputs": [],
   "source": [
    "freqs, source_disp_fft = get_fft(source_disp, dt)"
   ]
  },
  {
   "cell_type": "code",
   "execution_count": null,
   "metadata": {},
   "outputs": [],
   "source": [
    "plt.loglog(freqs, abs(source_disp_fft))\n",
    "plt.xlabel('frequency (hz)')\n",
    "plt.ylabel('amplitude')"
   ]
  },
  {
   "cell_type": "code",
   "execution_count": null,
   "metadata": {},
   "outputs": [],
   "source": [
    "moment_fd = abs(source_disp_fft)[0]"
   ]
  },
  {
   "cell_type": "code",
   "execution_count": null,
   "metadata": {},
   "outputs": [],
   "source": [
    "print(moment_td, moment_fd)"
   ]
  },
  {
   "cell_type": "markdown",
   "metadata": {},
   "source": [
    "## Energy\n",
    "Next we estimate energy and the equivalent in the freq domain."
   ]
  },
  {
   "cell_type": "markdown",
   "metadata": {},
   "source": [
    "## Time domain energy"
   ]
  },
  {
   "cell_type": "code",
   "execution_count": null,
   "metadata": {},
   "outputs": [],
   "source": [
    "source_energy = source_vel ** 2"
   ]
  },
  {
   "cell_type": "code",
   "execution_count": null,
   "metadata": {},
   "outputs": [],
   "source": [
    "plt.plot(x, source_energy)\n",
    "plt.xlabel('time (s)')\n",
    "plt.ylabel('amplitude (m/s)')"
   ]
  },
  {
   "cell_type": "code",
   "execution_count": null,
   "metadata": {},
   "outputs": [],
   "source": [
    "# energy_td = np.trapz(source_energy, dx=dt)\n",
    "energy_td = np.sum(source_energy)"
   ]
  },
  {
   "cell_type": "markdown",
   "metadata": {},
   "source": [
    "## Frequency domain energy"
   ]
  },
  {
   "cell_type": "code",
   "execution_count": null,
   "metadata": {},
   "outputs": [],
   "source": [
    "def get_ppsd(ar, dt):\n",
    "    \"\"\"Get the power spectral density? Or something close to it ;)\"\"\"\n",
    "    print(ar.min(), ar.max())\n",
    "    fft = np.fft.rfft(ar)\n",
    "    print(abs(fft).min(), abs(fft).max())\n",
    "    fft_ar_sq = fft ** 2\n",
    "    print(abs(fft_ar_sq).min(), abs(fft_ar_sq).max())\n",
    "    N = len(ar) # this needs to be number of *Non zero* components\n",
    "    out = fft_ar_sq * (dt / N)\n",
    "    print(abs(out).min(), abs(out).max())\n",
    "    # double non zero components to account for neg. frequencies\n",
    "    out[1:] *= 2\n",
    "    print(abs(out).min(), abs(out).max())\n",
    "    freq = np.fft.rfftfreq(len(ar), dt)\n",
    "    return freq, out"
   ]
  },
  {
   "cell_type": "code",
   "execution_count": null,
   "metadata": {},
   "outputs": [],
   "source": [
    "freqs, fft = get_fft(source_disp, 1)\n",
    "td_vel_num_diff = np.gradient(source_disp, dt)\n",
    "\n",
    "td_vel_freq_diff = np.fft.irfft(fft * np.pi*2*1j*freqs)\n",
    "\n",
    "plt.plot(td_vel_freq_diff, color='red')\n",
    "plt.xlim(450, 550)\n"
   ]
  },
  {
   "cell_type": "code",
   "execution_count": null,
   "metadata": {},
   "outputs": [],
   "source": [
    "plt.plot(td_vel_num_diff, color='blue')\n",
    "plt.xlim(450, 550)"
   ]
  },
  {
   "cell_type": "code",
   "execution_count": null,
   "metadata": {},
   "outputs": [],
   "source": [
    "print(np.sum(td_vel_num_diff**2), np.sum(td_vel_freq_diff**2))"
   ]
  },
  {
   "cell_type": "code",
   "execution_count": null,
   "metadata": {},
   "outputs": [],
   "source": [
    "source_"
   ]
  },
  {
   "cell_type": "code",
   "execution_count": null,
   "metadata": {},
   "outputs": [],
   "source": [
    "freqs, ppsd = get_ppsd(source_vel[:len(source_vel)//2], dt)\n",
    "freqs, ppsd = get_ppsd(source_vel, dt)\n",
    "plt.loglog(freqs, abs(ppsd))\n",
    "plt.xlabel('frequency (hz)')\n",
    "plt.ylabel('amplitude')"
   ]
  },
  {
   "cell_type": "code",
   "execution_count": null,
   "metadata": {},
   "outputs": [],
   "source": [
    "spa = np.trapz(source_vel**2, dx=dt)\n",
    "spb = np.sum(abs(get_ppsd(source_vel, dt)[1]))\n",
    "assert np.isclose(spa, spb)"
   ]
  },
  {
   "cell_type": "code",
   "execution_count": null,
   "metadata": {},
   "outputs": [],
   "source": [
    "print(spa, spb)"
   ]
  },
  {
   "cell_type": "code",
   "execution_count": null,
   "metadata": {},
   "outputs": [],
   "source": []
  }
 ],
 "metadata": {
  "kernelspec": {
   "display_name": "Python 3",
   "language": "python",
   "name": "python3"
  },
  "language_info": {
   "codemirror_mode": {
    "name": "ipython",
    "version": 3
   },
   "file_extension": ".py",
   "mimetype": "text/x-python",
   "name": "python",
   "nbconvert_exporter": "python",
   "pygments_lexer": "ipython3",
   "version": "3.7.6"
  }
 },
 "nbformat": 4,
 "nbformat_minor": 4
}
