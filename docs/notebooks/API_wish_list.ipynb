{
 "cells": [
  {
   "cell_type": "markdown",
   "metadata": {},
   "source": [
    "# Energy/Source API\n",
    "\n",
    "This document is a mockup of an experimental package for calculating source parameters in a plethora of ways. \n",
    "\n",
    "## EventSource\n",
    "\n",
    "EventSource is a high-level object which provides a simple API for calculating magnitudes and other basic source parameters."
   ]
  },
  {
   "cell_type": "code",
   "execution_count": null,
   "metadata": {},
   "outputs": [],
   "source": [
    "from energy import EventSource\n",
    "\n",
    "# get basic energy, fc, moment, etc.\n",
    "cat = get_catalog()  # just a catalog, nothing fancy\n",
    "waveform_client = obsplus.WaveBank('directory_of_waveforms')\n",
    "inv = obspy.read_inventory('inventory_path.xml')\n",
    "\n",
    "event = cat[0]"
   ]
  },
  {
   "cell_type": "markdown",
   "metadata": {},
   "source": [
    "First an example of how to calculate basic magnitudes attach them to an event.\n",
    "\n",
    "By default this will calculate MW, ME, and ML, and mark MW as preferred."
   ]
  },
  {
   "cell_type": "code",
   "execution_count": null,
   "metadata": {},
   "outputs": [],
   "source": [
    "source = EventSource(event, waveform_client, inv)\n",
    "new_event = source.update_event(event)"
   ]
  },
  {
   "cell_type": "markdown",
   "metadata": {},
   "source": [
    "A simple series with various source parameters and error estimates is also possible. This includes station aggregated moment, local magnitude, moment magnitude, corner frequencies, etc."
   ]
  },
  {
   "cell_type": "code",
   "execution_count": null,
   "metadata": {},
   "outputs": [],
   "source": [
    "source.get_source_summary()"
   ]
  },
  {
   "cell_type": "markdown",
   "metadata": {},
   "source": [
    "The above functionality will satisfy the needs of most users.\n",
    "\n",
    "However, to get more details about what is occurring under the hood, or to conduct more in-depth source parameter studies, information can be returned about the source parameters and their values used to extimate them from each station. To get a dataframe with multi-index columns describing all the supported methods (usually identified by author name of reference paper), then by seed_id as an index: "
   ]
  },
  {
   "cell_type": "code",
   "execution_count": null,
   "metadata": {},
   "outputs": [],
   "source": [
    "df = source.get_detailed_source_df()"
   ]
  },
  {
   "cell_type": "markdown",
   "metadata": {},
   "source": [
    "## Advanced Customization\n",
    "\n",
    "Moreover, there many tunable parameters that can be defined by a subclass of `SourceController`. This allows the user to do a few things:\n",
    "\n",
    "    1) Define custom pre-processing steps like adjusting for geometric spreading or intrinsic attenuation.\n",
    "    2) Define a simple earth model for determining Q, velocity, or density values given a source location and receiver location\n",
    "    3) Custom hooks for dumping outputs of the analysis at various stages"
   ]
  },
  {
   "cell_type": "code",
   "execution_count": null,
   "metadata": {},
   "outputs": [],
   "source": [
    "from energy import SourceController\n",
    "\n",
    "# First define custom behavior\n",
    "class MySourceController(SourceController):\n",
    "    \n",
    "    def get_p_velocity(self):\n",
    "        \"\"\" A custom function for returning a P wave velocity \"\"\"\n",
    "        if self.origin.depth > 1000:  # depth greater than 1000 m\n",
    "            return 6_000\n",
    "        else:\n",
    "            return 4_500\n",
    "        \n",
    "    def correct_site_effects(self, spectrum):\n",
    "        \"\"\" A custom adustment for site effects. \"\"\"\n",
    "        if self.station_name == 'TMU':\n",
    "            return spectrum * 2\n",
    "    \n",
    "    def correct_geometric_spreading(self, spectrum):\n",
    "        \"\"\" Correct for geometric spreading \"\"\"\n",
    "        factor = look_up_some_factor(self.event, self.station)\n",
    "        return spectrum * factor\n",
    "    "
   ]
  },
  {
   "cell_type": "code",
   "execution_count": null,
   "metadata": {},
   "outputs": [],
   "source": [
    "# Now calculate source paramters using behavior defined in MySourceController\n",
    "with MySourceController:\n",
    "    source = EventSource(event, waveform_client, inv)"
   ]
  },
  {
   "cell_type": "markdown",
   "metadata": {},
   "source": [
    "# Spectra\n",
    "A spectral representation of seismic data is needed to determine source parameters. These handy little classes forms the main building blocks for source parameter determination so a brief demo is in order.\n",
    "\n",
    "The two spectral classes are `EventSpectra` and `EventSpectrum`. They are a close parity to obspys' `Stream` and `Trace`, respectively. "
   ]
  },
  {
   "cell_type": "code",
   "execution_count": null,
   "metadata": {},
   "outputs": [],
   "source": [
    "import obspy\n",
    "from energy import EventSpectra, EventSpectrum\n",
    "\n",
    "# EventSpectrum is created from a trace with the response removed\n",
    "\n",
    "# get stream and remove response, ensure velocity is motion_type\n",
    "st = obspy.read()\n",
    "inv = obspy.read_events()\n",
    "st.remove_response(inv, output='VEL')\n",
    "\n",
    "spectrum = EventSpectrum(st[0], 'velocity')\n",
    "\n",
    "# or Spectra can be created from a stream\n",
    "spectra = EventSpectra(st, 'velocity')"
   ]
  },
  {
   "cell_type": "code",
   "execution_count": null,
   "metadata": {},
   "outputs": [],
   "source": [
    "# When a spectrum is calculated the displacement, velocity, and acceleration for the input\n",
    "# is determined. A dataframe with indicies as frequencies and columns of Displacement, Velocity,\n",
    "# Acceleration is at the core of each spectrum. "
   ]
  }
 ],
 "metadata": {
  "kernelspec": {
   "display_name": "Python 3",
   "language": "python",
   "name": "python3"
  },
  "language_info": {
   "codemirror_mode": {
    "name": "ipython",
    "version": 3
   },
   "file_extension": ".py",
   "mimetype": "text/x-python",
   "name": "python",
   "nbconvert_exporter": "python",
   "pygments_lexer": "ipython3",
   "version": "3.7.1"
  }
 },
 "nbformat": 4,
 "nbformat_minor": 2
}
