{
 "cells": [
  {
   "cell_type": "markdown",
   "metadata": {},
   "source": [
    "# Source Models\n",
    "\n",
    "This notebook explores some of the simple source models commonly used in seismology, which take the general from of:"
   ]
  },
  {
   "cell_type": "markdown",
   "metadata": {},
   "source": [
    "\\begin{equation*}\n",
    "\\Omega(f) = \\frac{\\Omega_{0}}{(1 + \\frac{f}{f_{c}}^{\\lambda n})^{1/\\lambda}}\n",
    "\\end{equation*}"
   ]
  },
  {
   "cell_type": "markdown",
   "metadata": {},
   "source": [
    "where $\\lambda$ and $n$ vary based on the model. A few we will explore here are:\n",
    "\n",
    "1. $\\omega^{2}$ model (Brune 1970, 1971), $\\lambda = 1, n = 2$\n",
    "\n",
    "\n",
    "2. The modified $\\omega^{2}$ model (Boatwright 1980), $\\lambda = 2, n = 2$\n",
    "\n",
    "\n",
    "3. The $\\omega^{3}$ model (Haskell 1964) $\\lambda = \\frac{2}{3}, n = 3$\n"
   ]
  },
  {
   "cell_type": "markdown",
   "metadata": {},
   "source": [
    "Let's first get some standard imports and function definitions out of the way:"
   ]
  },
  {
   "cell_type": "code",
   "execution_count": null,
   "metadata": {},
   "outputs": [],
   "source": [
    "%matplotlib inline\n",
    "# general imports\n",
    "from functools import partial\n",
    "\n",
    "import numpy as np\n",
    "import matplotlib.pyplot as plt\n",
    "\n",
    "\n",
    "# define generic source spectrum\n",
    "def get_source_spectrum(f: np.array, omega_0: float, fc: float, \n",
    "                        lam: float, n: float, output=\"DISP\") -> np.array:\n",
    "    \"\"\"\n",
    "    Return a theoretical source spectrum for input frequencies f\n",
    "    \"\"\"\n",
    "    # set constant for differentiation in order\n",
    "    if output == 'DISP':  # using displacement\n",
    "        const = 1\n",
    "    elif output == 'VEL':  # using velocity\n",
    "        const = 2j * np.pi * f / (2 * np.max(f))\n",
    "    elif output == 'ACC':  # using accleration\n",
    "        const = (2j * np.pi * f / (2 * np.max(f))) ** 2 \n",
    "    # return\n",
    "    return np.abs((const * omega_0) / (1 + (f / fc)**(lam * n))**(1 / lam))"
   ]
  },
  {
   "cell_type": "code",
   "execution_count": null,
   "metadata": {},
   "outputs": [],
   "source": [
    "# define specific models using partial functions\n",
    "source_models = dict(\n",
    "w2=partial(get_source_spectrum, lam=1, n=2),\n",
    "modified_w2=partial(get_source_spectrum, lam=2, n=2),\n",
    "w3=partial(get_source_spectrum, lam=2./3, n=3),\n",
    ")"
   ]
  },
  {
   "cell_type": "code",
   "execution_count": null,
   "metadata": {},
   "outputs": [],
   "source": [
    "# function for calculating spectrum\n",
    "def calc_spectra(f, omega_0, fc, output=\"DISP\") -> dict:\n",
    "    \"\"\" Calculate spectrum for all models in source model dict. \"\"\"\n",
    "\n",
    "    # calculate spectra and return dict\n",
    "    return {i: func(f=f, omega_0=omega_0, fc=fc, output=output)\n",
    "            for i, func in source_models.items()}\n",
    "\n",
    "\n",
    "def ifft_spectra(spect_dict: dict) -> dict:\n",
    "    \"\"\" Make some assumptions to calculate the ifft of the source spectra. \"\"\"\n",
    "    out = {}\n",
    "    for label, spectrum in spect_dict.items():\n",
    "        assumed_phase = np.random.uniform(low=-1, high=1)  #2 * np.pi  #np.linspace(0, 2 * np.pi, len(spectrum))\n",
    "        spec_i = 1j * np.sin(assumed_phase) * spectrum\n",
    "        spec = np.cos(assumed_phase) * spectrum\n",
    "        out[label] = np.fft.irfft(spec_i + spec)\n",
    "    return out\n",
    "\n",
    "\n",
    "def plot_spectrum(f, spect_dict, log=True, ylabel='displacement amplitude'):\n",
    "    func = plt.loglog if log else plt.plot\n",
    "    for i, values in spect_dict.items():\n",
    "        func(f, values, label=i)\n",
    "    plt.legend()\n",
    "    plt.xlabel('frequency (Hz)')\n",
    "    plt.ylabel(ylabel)\n",
    "    return plt.gca()\n",
    "\n",
    "\n",
    "def plot_time_domain(f, spect_dict, ylabel='displacement amplitude'):\n",
    "    for i, values in spect_dict.items():\n",
    "        t = np.linspace(0, np.max(f) * 2, len(values))\n",
    "        plt.plot(t, values, label=i)\n",
    "    plt.legend()\n",
    "    plt.xlabel('Time (seconds)')\n",
    "    plt.ylabel(ylabel)\n",
    "    return plt.gca()"
   ]
  },
  {
   "cell_type": "markdown",
   "metadata": {},
   "source": [
    "Next we plot these models for a constant corner frequencies ($f_{c}$) and low-frequency spectral level ($\\Omega_{0}$) in order to get a conceptual understanding for how they behave. Classically the displacement is plotted a log_log plot, but we will plot all ground motion types with log log and linear plots."
   ]
  },
  {
   "cell_type": "code",
   "execution_count": null,
   "metadata": {},
   "outputs": [],
   "source": [
    "# Make plots for simple case\n",
    "sampling_rate = 500  # sampling rate of instrument\n",
    "duration = 0.5  # duration in seconds\n",
    "\n",
    "f = np.fft.rfftfreq(int(sampling_rate * duration), d=1./sampling_rate)\n",
    "case_1_disp = calc_spectra(f, 5000, 10)\n",
    "case_1_vel = calc_spectra(f, 5000, 10, output='VEL')\n",
    "case_1_acc = calc_spectra(f, 5000, 10, output='ACC')\n",
    "\n",
    "figsize = (18, 4)"
   ]
  },
  {
   "cell_type": "code",
   "execution_count": null,
   "metadata": {},
   "outputs": [],
   "source": [
    "# log_log plots\n",
    "plt.figure(figsize=figsize)\n",
    "plt.subplot(1, 3, 1)\n",
    "plot_spectrum(f, case_1_disp)\n",
    "plt.subplot(1, 3, 2)\n",
    "plot_spectrum(f, case_1_vel, ylabel='velocity amplitude')\n",
    "plt.subplot(1, 3, 3)\n",
    "plot_spectrum(f, case_1_acc, ylabel='acceleration amplitude')"
   ]
  },
  {
   "cell_type": "code",
   "execution_count": null,
   "metadata": {},
   "outputs": [],
   "source": [
    "# linear plots\n",
    "plt.figure(figsize=figsize)\n",
    "plt.subplot(1, 3, 1)\n",
    "plot_spectrum(f, case_1_disp, log=False)\n",
    "plt.subplot(1, 3, 2)\n",
    "plot_spectrum(f, case_1_vel, log=False, ylabel='velocity amplitude')\n",
    "plt.subplot(1, 3, 3)\n",
    "plot_spectrum(f, case_1_acc, log=False, ylabel='acceleration amplitude')\n"
   ]
  }
 ],
 "metadata": {
  "kernelspec": {
   "display_name": "Python 3",
   "language": "python",
   "name": "python3"
  },
  "language_info": {
   "codemirror_mode": {
    "name": "ipython",
    "version": 3
   },
   "file_extension": ".py",
   "mimetype": "text/x-python",
   "name": "python",
   "nbconvert_exporter": "python",
   "pygments_lexer": "ipython3",
   "version": "3.8.5"
  }
 },
 "nbformat": 4,
 "nbformat_minor": 4
}
